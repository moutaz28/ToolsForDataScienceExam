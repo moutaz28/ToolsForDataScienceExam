{
 "cells": [
  {
   "cell_type": "markdown",
   "id": "41c3fa11-a1d1-4ebd-85d7-f36aa17ce6d9",
   "metadata": {},
   "source": [
    "# My Jupyter Notebook on IBM Watson Studio"
   ]
  },
  {
   "cell_type": "markdown",
   "id": "3e056f7d-f322-4345-a483-7592ade2c026",
   "metadata": {},
   "source": [
    "<b> Moutaz Alsoufi </b>\n",
    "<br> Petroleum Engineer"
   ]
  },
  {
   "cell_type": "markdown",
   "id": "40e1791c-d63d-42c2-b542-0dce71a306fa",
   "metadata": {},
   "source": [
    "I am interested in data sceince as i believe it is the future of the world and i would like to be a part of it."
   ]
  },
  {
   "cell_type": "markdown",
   "id": "435359b1-98a3-4568-b029-9c615497c11b",
   "metadata": {},
   "source": [
    "### My code prints the hello world statement"
   ]
  },
  {
   "cell_type": "code",
   "execution_count": 1,
   "id": "3ad2c105-764e-4469-823d-f41d55c4ec05",
   "metadata": {},
   "outputs": [
    {
     "name": "stdout",
     "output_type": "stream",
     "text": [
      "Hello world!\n"
     ]
    }
   ],
   "source": [
    "print(\"Hello world!\")"
   ]
  },
  {
   "cell_type": "markdown",
   "id": "0db9117c-6871-4c56-8ad5-ffbb5446f724",
   "metadata": {},
   "source": [
    "---\n",
    "<ul>\n",
    "<li>Bulleted</li>\n",
    "<li>list</li>\n",
    "</ul>\n",
    "\n",
    "<ol>\n",
    "<li>Numbered</li>\n",
    "<li>list</li>\n",
    "</ol>\n",
    "\n",
    "|Table|Name|Address|\n",
    "|----|-----|----|\n",
    "|1|Moutaz|Sydney|\n"
   ]
  },
  {
   "cell_type": "code",
   "execution_count": null,
   "id": "aba07ef1-eaff-4082-af89-b516be920e60",
   "metadata": {},
   "outputs": [],
   "source": []
  }
 ],
 "metadata": {
  "kernelspec": {
   "display_name": "Python 3 (ipykernel)",
   "language": "python",
   "name": "python3"
  },
  "language_info": {
   "codemirror_mode": {
    "name": "ipython",
    "version": 3
   },
   "file_extension": ".py",
   "mimetype": "text/x-python",
   "name": "python",
   "nbconvert_exporter": "python",
   "pygments_lexer": "ipython3",
   "version": "3.10.7"
  }
 },
 "nbformat": 4,
 "nbformat_minor": 5
}
